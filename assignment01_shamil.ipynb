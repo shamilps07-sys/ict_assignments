{
  "nbformat": 4,
  "nbformat_minor": 0,
  "metadata": {
    "colab": {
      "provenance": [],
      "authorship_tag": "ABX9TyOgC/1WKYvkQgR2CKzoaRjO",
      "include_colab_link": true
    },
    "kernelspec": {
      "name": "python3",
      "display_name": "Python 3"
    },
    "language_info": {
      "name": "python"
    }
  },
  "cells": [
    {
      "cell_type": "markdown",
      "metadata": {
        "id": "view-in-github",
        "colab_type": "text"
      },
      "source": [
        "<a href=\"https://colab.research.google.com/github/shamilps07-sys/ict_assignments/blob/main/assignment01_shamil.ipynb\" target=\"_parent\"><img src=\"https://colab.research.google.com/assets/colab-badge.svg\" alt=\"Open In Colab\"/></a>"
      ]
    },
    {
      "cell_type": "code",
      "source": [
        "#1\n",
        "item1_price=int(input(\"item1 price: \"))\n",
        "item1_quantity=int(input(\"item1 quantity: \"))\n",
        "item2_price=int(input(\"item2 price: \"))\n",
        "item2_quantity=int(input(\"quantity2: \"))\n",
        "t=item1_price*item1_quantity+item2_price*item2_quantity\n",
        "print(t)\n"
      ],
      "metadata": {
        "colab": {
          "base_uri": "https://localhost:8080/"
        },
        "id": "w684ciMvXoeC",
        "outputId": "b7f4eef4-9ccf-42b3-a8a4-ef8c1e80354c"
      },
      "execution_count": 1,
      "outputs": [
        {
          "output_type": "stream",
          "name": "stdout",
          "text": [
            "item1 price: 45\n",
            "item1 quantity: 3\n",
            "item2 price: 30\n",
            "quantity2: 2\n",
            "195\n"
          ]
        }
      ]
    },
    {
      "cell_type": "code",
      "source": [
        "#2\n",
        "print(\"temperature conversion\")\n",
        "cel=float(input(\"enter temparature in celsius\"))\n",
        "faren=(cel*9/5)+32\n",
        "print(faren)"
      ],
      "metadata": {
        "colab": {
          "base_uri": "https://localhost:8080/"
        },
        "id": "9UrzkOQcbjgc",
        "outputId": "2a1437ec-8a0f-4d71-c786-0735b97e618f"
      },
      "execution_count": 6,
      "outputs": [
        {
          "output_type": "stream",
          "name": "stdout",
          "text": [
            "temperature conversion\n",
            "enter temparature in celsius22\n",
            "71.6\n"
          ]
        }
      ]
    },
    {
      "cell_type": "code",
      "source": [
        "#3\n",
        "basic_salary = int(input(\"enter basic salary:\"))\n",
        "hr = 0.20 * basic_salary\n",
        "da = 0.10 * basic_salary\n",
        "print(basic_salary + hr + da)\n",
        "\n"
      ],
      "metadata": {
        "colab": {
          "base_uri": "https://localhost:8080/"
        },
        "id": "jY9fpiz0Gj-5",
        "outputId": "784af672-e5b4-48a3-993e-8311768f39b4"
      },
      "execution_count": 8,
      "outputs": [
        {
          "output_type": "stream",
          "name": "stdout",
          "text": [
            "enter basic salary:20000\n",
            "26000.0\n"
          ]
        }
      ]
    },
    {
      "cell_type": "code",
      "source": [
        "#4\n",
        "print(\"interst calculator\")\n",
        "p = int(input(\"Enter principal:\"))\n",
        "r = float(input('Enter rate of interest:'))\n",
        "t = int(input(\"Time(in years):\"))\n",
        "\n",
        "si = (p*r*t)/100\n",
        "print(si)"
      ],
      "metadata": {
        "colab": {
          "base_uri": "https://localhost:8080/"
        },
        "id": "MZmPAVmBhiVI",
        "outputId": "4383e5d1-b776-48be-8a78-581f9193132d"
      },
      "execution_count": 7,
      "outputs": [
        {
          "output_type": "stream",
          "name": "stdout",
          "text": [
            "interst calculator\n",
            "Enter principal:10000\n",
            "Enter rate of interest:5\n",
            "Time(in years):2\n",
            "1000.0\n"
          ]
        }
      ]
    },
    {
      "cell_type": "code",
      "source": [
        "#5\n",
        "total_minutes =int(input(\"Enter total minutes: \"))\n",
        "hours = total_minutes // 60\n",
        "minutes = total_minutes % 60\n",
        "print(f\"{hours} hours and {minutes} minutes\")"
      ],
      "metadata": {
        "id": "JAwbTa70jgIl",
        "colab": {
          "base_uri": "https://localhost:8080/"
        },
        "outputId": "a91c9986-4674-4017-d08d-69905398b155"
      },
      "execution_count": 2,
      "outputs": [
        {
          "output_type": "stream",
          "name": "stdout",
          "text": [
            "Enter total minutes: 130\n",
            "2 hours and 10 minutes\n"
          ]
        }
      ]
    },
    {
      "cell_type": "code",
      "source": [
        "#6\n",
        "weight = float(input(\"Weight (kg): \"))\n",
        "height = float(input(\"Height (m): \"))\n",
        "bmi = weight / (height ** 2)\n",
        "print(\"BMI = {:.2f}\".format(bmi))\n",
        "\n"
      ],
      "metadata": {
        "colab": {
          "base_uri": "https://localhost:8080/"
        },
        "id": "sjoezL55F5SZ",
        "outputId": "aa5c039c-5f6a-427f-9bb2-47fe6e68b5fd"
      },
      "execution_count": 3,
      "outputs": [
        {
          "output_type": "stream",
          "name": "stdout",
          "text": [
            "weight (kg): 60\n",
            "height (m): 1.65\n",
            "BMI = 22.04\n"
          ]
        }
      ]
    },
    {
      "cell_type": "code",
      "source": [
        "#7\n",
        "print (\"discount calculator\")\n",
        "ogprice = int(input(\"orginal input price\"))\n",
        "dis = ogprice - (ogprice * 10/100)\n",
        "print(dis)"
      ],
      "metadata": {
        "colab": {
          "base_uri": "https://localhost:8080/"
        },
        "id": "w3IZAPDYMGRg",
        "outputId": "bdf9554d-5a74-4203-d66c-50faa565c3b3"
      },
      "execution_count": 14,
      "outputs": [
        {
          "output_type": "stream",
          "name": "stdout",
          "text": [
            "discount calculator\n",
            "orginal input price1200\n",
            "1080.0\n"
          ]
        }
      ]
    },
    {
      "cell_type": "code",
      "source": [
        "#8\n",
        "a=float(input(\"enter side a\"))\n",
        "b=float(input(\"enter side b\"))\n",
        "c=float(input(\"enter side c\"))\n",
        "s=(a+b+c)/2\n",
        "area=(s*(s-a)*(s-b)*(s-c))**0.5\n",
        "print(area)\n",
        "\n",
        "\n"
      ],
      "metadata": {
        "colab": {
          "base_uri": "https://localhost:8080/"
        },
        "id": "umIgNG09Q3uI",
        "outputId": "51744b10-7668-4c99-d80b-eb1c404ba930"
      },
      "execution_count": 17,
      "outputs": [
        {
          "output_type": "stream",
          "name": "stdout",
          "text": [
            "enter side a5\n",
            "enter side b6\n",
            "enter side c7\n",
            "14.696938456699069\n"
          ]
        }
      ]
    },
    {
      "cell_type": "code",
      "source": [
        "#9\n",
        "print(\"Paint Cost Estimator\")\n",
        "l = float(input(\"Enter length of the wall:\"))\n",
        "b = float(input(\"Enter breadth of the wall:\"))\n",
        "area = l * b\n",
        "area_w = 2*(1.5 * 1.2)\n",
        "paint = area - area_w\n",
        "print(paint,\"sq.m\")\n",
        "cost = paint * 25\n",
        "print(cost)\n"
      ],
      "metadata": {
        "colab": {
          "base_uri": "https://localhost:8080/"
        },
        "id": "h5w9Jd_JQQm5",
        "outputId": "a86d55c3-59d7-4649-e632-62e5faf7fac2"
      },
      "execution_count": 16,
      "outputs": [
        {
          "output_type": "stream",
          "name": "stdout",
          "text": [
            "Paint Cost Estimator\n",
            "Enter length of the wall:12\n",
            "Enter breadth of the wall:8\n",
            "92.4 sq.m\n",
            "2310.0\n"
          ]
        }
      ]
    },
    {
      "cell_type": "code",
      "source": [
        "#10\n",
        "a=float(input(\"Enter number of units consumed\"))\n",
        "b=(a*5.2)+100\n",
        "print(b)"
      ],
      "metadata": {
        "colab": {
          "base_uri": "https://localhost:8080/"
        },
        "id": "5u9Oiw1kRoLB",
        "outputId": "a2f2ab29-524f-4374-a3e5-12636da9376a"
      },
      "execution_count": 18,
      "outputs": [
        {
          "output_type": "stream",
          "name": "stdout",
          "text": [
            "Enter number of units consumed250\n",
            "1400.0\n"
          ]
        }
      ]
    },
    {
      "cell_type": "code",
      "source": [],
      "metadata": {
        "id": "JIFPsWvJSLWA"
      },
      "execution_count": null,
      "outputs": []
    }
  ]
}