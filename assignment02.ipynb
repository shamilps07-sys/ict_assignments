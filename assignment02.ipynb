{
  "nbformat": 4,
  "nbformat_minor": 0,
  "metadata": {
    "colab": {
      "provenance": [],
      "authorship_tag": "ABX9TyOS20mg4B0GI8TKyQoAErbu",
      "include_colab_link": true
    },
    "kernelspec": {
      "name": "python3",
      "display_name": "Python 3"
    },
    "language_info": {
      "name": "python"
    }
  },
  "cells": [
    {
      "cell_type": "markdown",
      "metadata": {
        "id": "view-in-github",
        "colab_type": "text"
      },
      "source": [
        "<a href=\"https://colab.research.google.com/github/shamilps07-sys/ict_assignments/blob/main/assignment02.ipynb\" target=\"_parent\"><img src=\"https://colab.research.google.com/assets/colab-badge.svg\" alt=\"Open In Colab\"/></a>"
      ]
    },
    {
      "cell_type": "code",
      "execution_count": 5,
      "metadata": {
        "colab": {
          "base_uri": "https://localhost:8080/"
        },
        "id": "QROe_b4IOz1x",
        "outputId": "a018ade7-bb31-4050-fcb7-906b933ac2e6"
      },
      "outputs": [
        {
          "output_type": "stream",
          "name": "stdout",
          "text": [
            "enter a number between 1 to 100:50\n",
            "Buzz\n"
          ]
        }
      ],
      "source": [
        "#1\n",
        "num = int(input(\"enter a number between 1 to 100:\"))\n",
        "for i in range(0,101):\n",
        "  if num%3 == 0 and num % 5 == 0:\n",
        "    print(\"FizzBuzz\")\n",
        "  elif num%3 == 0:\n",
        "    print(\"Fizz\")\n",
        "    break\n",
        "  elif num%5 == 0:\n",
        "    print(\"Buzz\")\n",
        "    break\n",
        "  else:\n",
        "    print(\"not divisible\")\n",
        "    break"
      ]
    },
    {
      "cell_type": "code",
      "source": [
        "#2\n",
        "\n",
        "n=int(input(\"enter the number of unit consumed : \"))\n",
        "totalamount = 0\n",
        "\n",
        "if n <=100:\n",
        "   totalamount = n*5\n",
        "elif n <= 200:\n",
        "   totalamount = (100*5) + (n-100) * 7\n",
        "else:\n",
        "   totalamount = (100*5) + (100*7)+((n-200)*10)\n",
        "print(f\"Total Bill amount :{totalamount}\")\n",
        "\n",
        "\n",
        "\n"
      ],
      "metadata": {
        "colab": {
          "base_uri": "https://localhost:8080/"
        },
        "id": "LNf6DEqqPw-n",
        "outputId": "61590c4e-8611-474f-d42e-a747b2dc9b4b"
      },
      "execution_count": 6,
      "outputs": [
        {
          "output_type": "stream",
          "name": "stdout",
          "text": [
            "enter the number of unit consumed : 245\n",
            "Total Bill amount :1650\n"
          ]
        }
      ]
    },
    {
      "cell_type": "code",
      "source": [
        "#3\n",
        "\n",
        "for i in range(1, 6):\n",
        "   print(\"*\" * i)\n",
        "\n"
      ],
      "metadata": {
        "colab": {
          "base_uri": "https://localhost:8080/"
        },
        "id": "i9sPPHRHV7bK",
        "outputId": "04a7b0fa-cc05-44fd-d6a8-f58e41035c50"
      },
      "execution_count": 8,
      "outputs": [
        {
          "output_type": "stream",
          "name": "stdout",
          "text": [
            "*\n",
            "**\n",
            "***\n",
            "****\n",
            "*****\n"
          ]
        }
      ]
    },
    {
      "cell_type": "code",
      "source": [
        "#4\n",
        "\n",
        "pal = str(input(\"Enter a number or string:\"))\n",
        "rev_pal = pal[::-1]\n",
        "\n",
        "if rev_pal == pal:\n",
        " print(pal,\"is a palindrome\")\n",
        "else:\n",
        " print(pal,\"is not a palindrome\")\n",
        "\n"
      ],
      "metadata": {
        "colab": {
          "base_uri": "https://localhost:8080/"
        },
        "id": "4kf8A0OCaDjE",
        "outputId": "0fe50fd8-f4bb-437b-e4a5-3c74dc801f82"
      },
      "execution_count": 11,
      "outputs": [
        {
          "output_type": "stream",
          "name": "stdout",
          "text": [
            "Enter a number or string:121\n",
            "121 is a palindrome\n"
          ]
        }
      ]
    },
    {
      "cell_type": "code",
      "source": [],
      "metadata": {
        "id": "z_hqJvXmaWZU"
      },
      "execution_count": null,
      "outputs": []
    }
  ]
}